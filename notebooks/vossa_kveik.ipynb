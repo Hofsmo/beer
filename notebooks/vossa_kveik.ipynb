{
 "cells": [
  {
   "cell_type": "markdown",
   "metadata": {},
   "source": [
    "# Read in data from the tilt and plot it\n",
    "This notebook demonstrates how to read in data collected using the tilt 2 a saved csv files and plot it. I will create functions and stuff for a more general code later. The most up to date version of this notebook can be found on https://github.com/Hofsmo/beer"
   ]
  },
  {
   "cell_type": "code",
   "execution_count": 1,
   "metadata": {},
   "outputs": [],
   "source": [
    "import pandas as pd\n",
    "from matplotlib import pyplot as plt\n",
    "%matplotlib inline"
   ]
  },
  {
   "cell_type": "markdown",
   "metadata": {},
   "source": [
    "For some reason the tilt logged using Fahrenheit. This function can be used to convert the temperature column to celsius."
   ]
  },
  {
   "cell_type": "code",
   "execution_count": 2,
   "metadata": {},
   "outputs": [],
   "source": [
    "def fahr_to_celsius(temp_fahr):\n",
    "    \"\"\"Convert Fahrenheit to Celsius\n",
    "    \n",
    "    Return Celsius conversion of input\"\"\"\n",
    "    temp_celsius = (temp_fahr - 32) * 5 / 9\n",
    "    return temp_celsius"
   ]
  },
  {
   "cell_type": "markdown",
   "metadata": {},
   "source": [
    "During the fermentation the tilt app could suddenly not upload to google drive anymore. The largest part of the dataset is therefore from a csv file stored on my phone."
   ]
  },
  {
   "cell_type": "code",
   "execution_count": 3,
   "metadata": {},
   "outputs": [],
   "source": [
    "df = pd.read_csv(\"../data/voss2_drive.csv\")"
   ]
  },
  {
   "cell_type": "code",
   "execution_count": 4,
   "metadata": {},
   "outputs": [],
   "source": [
    "df2 = pd.read_csv(\"../data/voss2_cellphone.csv\")"
   ]
  },
  {
   "cell_type": "code",
   "execution_count": 5,
   "metadata": {
    "jupyter": {
     "source_hidden": true
    }
   },
   "outputs": [
    {
     "data": {
      "text/html": [
       "<div>\n",
       "<style scoped>\n",
       "    .dataframe tbody tr th:only-of-type {\n",
       "        vertical-align: middle;\n",
       "    }\n",
       "\n",
       "    .dataframe tbody tr th {\n",
       "        vertical-align: top;\n",
       "    }\n",
       "\n",
       "    .dataframe thead th {\n",
       "        text-align: right;\n",
       "    }\n",
       "</style>\n",
       "<table border=\"1\" class=\"dataframe\">\n",
       "  <thead>\n",
       "    <tr style=\"text-align: right;\">\n",
       "      <th></th>\n",
       "      <th>Report &amp; Chart Settings:</th>\n",
       "      <th>Unnamed: 1</th>\n",
       "      <th>Timepoint</th>\n",
       "      <th>SG</th>\n",
       "      <th>Temp</th>\n",
       "      <th>Color</th>\n",
       "      <th>Beer</th>\n",
       "      <th>Comment</th>\n",
       "    </tr>\n",
       "  </thead>\n",
       "  <tbody>\n",
       "    <tr>\n",
       "      <th>0</th>\n",
       "      <td>From Date:</td>\n",
       "      <td>9/7/2020 1:14:27</td>\n",
       "      <td>9/7/2020 2:02:57</td>\n",
       "      <td>1.074</td>\n",
       "      <td>40.6</td>\n",
       "      <td>PURPLE</td>\n",
       "      <td>Vossakveik2</td>\n",
       "      <td>NaN</td>\n",
       "    </tr>\n",
       "    <tr>\n",
       "      <th>1</th>\n",
       "      <td>To Date:</td>\n",
       "      <td>9/7/2020 2:02:57</td>\n",
       "      <td>9/7/2020 1:47:57</td>\n",
       "      <td>1.074</td>\n",
       "      <td>40.6</td>\n",
       "      <td>PURPLE</td>\n",
       "      <td>Vossakveik2</td>\n",
       "      <td>NaN</td>\n",
       "    </tr>\n",
       "    <tr>\n",
       "      <th>2</th>\n",
       "      <td>Time Frame:</td>\n",
       "      <td>all</td>\n",
       "      <td>9/7/2020 1:32:53</td>\n",
       "      <td>1.074</td>\n",
       "      <td>40.6</td>\n",
       "      <td>PURPLE</td>\n",
       "      <td>Vossakveik2</td>\n",
       "      <td>NaN</td>\n",
       "    </tr>\n",
       "    <tr>\n",
       "      <th>3</th>\n",
       "      <td>Temp. Units:</td>\n",
       "      <td>Celsius</td>\n",
       "      <td>9/7/2020 1:14:27</td>\n",
       "      <td>1.076</td>\n",
       "      <td>35.6</td>\n",
       "      <td>PURPLE</td>\n",
       "      <td>Vossakveik2</td>\n",
       "      <td>NaN</td>\n",
       "    </tr>\n",
       "  </tbody>\n",
       "</table>\n",
       "</div>"
      ],
      "text/plain": [
       "  Report & Chart Settings:        Unnamed: 1         Timepoint     SG  Temp  \\\n",
       "0               From Date:  9/7/2020 1:14:27  9/7/2020 2:02:57  1.074  40.6   \n",
       "1                 To Date:  9/7/2020 2:02:57  9/7/2020 1:47:57  1.074  40.6   \n",
       "2              Time Frame:               all  9/7/2020 1:32:53  1.074  40.6   \n",
       "3             Temp. Units:           Celsius  9/7/2020 1:14:27  1.076  35.6   \n",
       "\n",
       "    Color         Beer  Comment  \n",
       "0  PURPLE  Vossakveik2      NaN  \n",
       "1  PURPLE  Vossakveik2      NaN  \n",
       "2  PURPLE  Vossakveik2      NaN  \n",
       "3  PURPLE  Vossakveik2      NaN  "
      ]
     },
     "execution_count": 5,
     "metadata": {},
     "output_type": "execute_result"
    }
   ],
   "source": [
    "df.dropna(subset=[\"Temp\"])"
   ]
  },
  {
   "cell_type": "markdown",
   "metadata": {},
   "source": [
    "To be able to use the time stamps as index I convert them to datetime."
   ]
  },
  {
   "cell_type": "code",
   "execution_count": 6,
   "metadata": {},
   "outputs": [],
   "source": [
    "df.loc[:, \"Timepoint\"] = pd.to_datetime(df[\"Timepoint\"], format='%m/%d/%Y %H:%M:%S')"
   ]
  },
  {
   "cell_type": "code",
   "execution_count": 7,
   "metadata": {},
   "outputs": [],
   "source": [
    "df2.loc[:, \"Temp\"] = fahr_to_celsius(df2[\"Temp\"])"
   ]
  },
  {
   "cell_type": "code",
   "execution_count": 8,
   "metadata": {},
   "outputs": [],
   "source": [
    "df2.loc[:, \"Timepoint\"] = pd.to_datetime(df2[\"Timestamp\"], format='%d.%m.%Y %H:%M:%S')"
   ]
  },
  {
   "cell_type": "markdown",
   "metadata": {},
   "source": [
    "Now I can merge the datasets and set the time elapsed as the index. I also get rid of the NaN values."
   ]
  },
  {
   "cell_type": "code",
   "execution_count": 9,
   "metadata": {
    "scrolled": true
   },
   "outputs": [],
   "source": [
    "df = pd.concat([df, df2], axis=0)\n",
    "df = df.sort_values(by=\"Timepoint\")\n",
    "df.set_index(\"Timepoint\", inplace=True)\n",
    "df.dropna(subset=[\"Temp\"], inplace=True)\n",
    "df.index= (df.index -df.index[0]).total_seconds()/3600"
   ]
  },
  {
   "cell_type": "code",
   "execution_count": 1,
   "metadata": {},
   "outputs": [
    {
     "ename": "NameError",
     "evalue": "name 'df' is not defined",
     "output_type": "error",
     "traceback": [
      "\u001b[0;31m---------------------------------------------------------------------------\u001b[0m",
      "\u001b[0;31mNameError\u001b[0m                                 Traceback (most recent call last)",
      "\u001b[0;32m<ipython-input-1-a60a5bf31947>\u001b[0m in \u001b[0;36m<module>\u001b[0;34m\u001b[0m\n\u001b[0;32m----> 1\u001b[0;31m \u001b[0max\u001b[0m \u001b[0;34m=\u001b[0m \u001b[0mdf\u001b[0m\u001b[0;34m.\u001b[0m\u001b[0mplot\u001b[0m\u001b[0;34m(\u001b[0m\u001b[0my\u001b[0m\u001b[0;34m=\u001b[0m\u001b[0;34m\"Temp\"\u001b[0m\u001b[0;34m)\u001b[0m\u001b[0;34m\u001b[0m\u001b[0;34m\u001b[0m\u001b[0m\n\u001b[0m\u001b[1;32m      2\u001b[0m \u001b[0mdf\u001b[0m\u001b[0;34m.\u001b[0m\u001b[0mplot\u001b[0m\u001b[0;34m(\u001b[0m\u001b[0my\u001b[0m\u001b[0;34m=\u001b[0m\u001b[0;34m\"SG\"\u001b[0m\u001b[0;34m,\u001b[0m \u001b[0msecondary_y\u001b[0m\u001b[0;34m=\u001b[0m\u001b[0;32mTrue\u001b[0m\u001b[0;34m,\u001b[0m \u001b[0max\u001b[0m\u001b[0;34m=\u001b[0m\u001b[0max\u001b[0m\u001b[0;34m)\u001b[0m\u001b[0;34m\u001b[0m\u001b[0;34m\u001b[0m\u001b[0m\n\u001b[1;32m      3\u001b[0m \u001b[0max\u001b[0m\u001b[0;34m.\u001b[0m\u001b[0mset_xlabel\u001b[0m\u001b[0;34m(\u001b[0m\u001b[0;34m\"hours\"\u001b[0m\u001b[0;34m)\u001b[0m\u001b[0;34m\u001b[0m\u001b[0;34m\u001b[0m\u001b[0m\n\u001b[1;32m      4\u001b[0m \u001b[0max\u001b[0m\u001b[0;34m.\u001b[0m\u001b[0mgrid\u001b[0m\u001b[0;34m(\u001b[0m\u001b[0;34m\"on\"\u001b[0m\u001b[0;34m)\u001b[0m\u001b[0;34m\u001b[0m\u001b[0;34m\u001b[0m\u001b[0m\n\u001b[1;32m      5\u001b[0m \u001b[0mplt\u001b[0m\u001b[0;34m.\u001b[0m\u001b[0mshow\u001b[0m\u001b[0;34m(\u001b[0m\u001b[0;34m)\u001b[0m\u001b[0;34m\u001b[0m\u001b[0;34m\u001b[0m\u001b[0m\n",
      "\u001b[0;31mNameError\u001b[0m: name 'df' is not defined"
     ]
    }
   ],
   "source": [
    "ax = df.plot(y=\"Temp\")\n",
    "df.plot(y=\"SG\", secondary_y=True, ax=ax)\n",
    "ax.set_xlabel(\"hours\")\n",
    "ax.grid(\"on\")\n",
    "plt.show()"
   ]
  },
  {
   "cell_type": "markdown",
   "metadata": {},
   "source": [
    "When I started the fermentation I was not sure if the wort had actually reached a low enough temperature. From the plot it can be seen that it probably hadn't. To cool it down I carried the fermentor out to the terrace and waited for it to cool down a bit. I am not sure if it was needed or not. "
   ]
  },
  {
   "cell_type": "markdown",
   "metadata": {},
   "source": [
    "## Conclusion\n",
    "Preparing and plotting the tilt data using pandas was very easy. In the future I think I will stick to this solution instead of google docs."
   ]
  }
 ],
 "metadata": {
  "kernelspec": {
   "display_name": "Python 3",
   "language": "python",
   "name": "python3"
  },
  "language_info": {
   "codemirror_mode": {
    "name": "ipython",
    "version": 3
   },
   "file_extension": ".py",
   "mimetype": "text/x-python",
   "name": "python",
   "nbconvert_exporter": "python",
   "pygments_lexer": "ipython3",
   "version": "3.8.5"
  }
 },
 "nbformat": 4,
 "nbformat_minor": 4
}
