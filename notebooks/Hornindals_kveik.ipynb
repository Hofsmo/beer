{
 "cells": [
  {
   "cell_type": "markdown",
   "metadata": {},
   "source": [
    "# Notebook for plotting gravity and temperature of Hornindals style beer\n",
    "This notebook is for plotting the gravity and temperature of beers made using kveik from Hornindal\n",
    "\n",
    "First the necessary libraries should be loaded."
   ]
  },
  {
   "cell_type": "code",
   "execution_count": 19,
   "metadata": {},
   "outputs": [],
   "source": [
    "import pandas as pd\n",
    "from matplotlib import pyplot as plt\n",
    "from datetime import datetime"
   ]
  },
  {
   "cell_type": "markdown",
   "metadata": {},
   "source": [
    "To be able to do the plotting efficiently for many beers to come I will define a function for reading and modifying the data"
   ]
  },
  {
   "cell_type": "code",
   "execution_count": 2,
   "metadata": {},
   "outputs": [],
   "source": [
    "def fahr_to_celsius(temp_fahr):\n",
    "    \"\"\"Convert Fahrenheit to Celsius\n",
    "    \n",
    "    Return Celsius conversion of input\"\"\"\n",
    "    temp_celsius = (temp_fahr - 32) * 5 / 9\n",
    "    return temp_celsius"
   ]
  },
  {
   "cell_type": "code",
   "execution_count": 15,
   "metadata": {},
   "outputs": [],
   "source": [
    "def read_tilt_cellphone_data(fname):\n",
    "    \"\"\"Read the data from the tilt and return data frame\"\"\"\n",
    "    df = pd.read_csv(fname)\n",
    "    df.loc[:, \"Temp\"] = fahr_to_celsius(df[\"Temp\"])\n",
    "    df.loc[:, \"Timepoint\"] = pd.to_datetime(df[\"Timestamp\"], format='%d.%m.%Y %H:%M:%S')\n",
    "    df.set_index(\"Timepoint\", inplace=True)\n",
    "    df.dropna(subset=[\"Temp\"], inplace=True)\n",
    "    return df"
   ]
  },
  {
   "cell_type": "code",
   "execution_count": 16,
   "metadata": {},
   "outputs": [],
   "source": [
    "df = read_tilt_cellphone_data(\"../data/Hornindal.csv\")"
   ]
  },
  {
   "cell_type": "code",
   "execution_count": 17,
   "metadata": {},
   "outputs": [
    {
     "data": {
      "text/html": [
       "<div>\n",
       "<style scoped>\n",
       "    .dataframe tbody tr th:only-of-type {\n",
       "        vertical-align: middle;\n",
       "    }\n",
       "\n",
       "    .dataframe tbody tr th {\n",
       "        vertical-align: top;\n",
       "    }\n",
       "\n",
       "    .dataframe thead th {\n",
       "        text-align: right;\n",
       "    }\n",
       "</style>\n",
       "<table border=\"1\" class=\"dataframe\">\n",
       "  <thead>\n",
       "    <tr style=\"text-align: right;\">\n",
       "      <th></th>\n",
       "      <th>Timestamp</th>\n",
       "      <th>SG</th>\n",
       "      <th>Temp</th>\n",
       "      <th>Color</th>\n",
       "      <th>Beer</th>\n",
       "      <th>Comment</th>\n",
       "    </tr>\n",
       "    <tr>\n",
       "      <th>Timepoint</th>\n",
       "      <th></th>\n",
       "      <th></th>\n",
       "      <th></th>\n",
       "      <th></th>\n",
       "      <th></th>\n",
       "      <th></th>\n",
       "    </tr>\n",
       "  </thead>\n",
       "  <tbody>\n",
       "    <tr>\n",
       "      <th>2020-09-07 12:07:48</th>\n",
       "      <td>7.9.2020 12:07:48</td>\n",
       "      <td>1.069</td>\n",
       "      <td>35.555556</td>\n",
       "      <td>PURPLE</td>\n",
       "      <td>Vosss</td>\n",
       "      <td>NaN</td>\n",
       "    </tr>\n",
       "    <tr>\n",
       "      <th>2020-09-07 12:56:03</th>\n",
       "      <td>7.9.2020 12:56:03</td>\n",
       "      <td>1.065</td>\n",
       "      <td>35.555556</td>\n",
       "      <td>PURPLE</td>\n",
       "      <td>Vosss</td>\n",
       "      <td>NaN</td>\n",
       "    </tr>\n",
       "    <tr>\n",
       "      <th>2020-09-07 13:38:24</th>\n",
       "      <td>7.9.2020 13:38:24</td>\n",
       "      <td>1.068</td>\n",
       "      <td>35.555556</td>\n",
       "      <td>PURPLE</td>\n",
       "      <td>Vosss</td>\n",
       "      <td>NaN</td>\n",
       "    </tr>\n",
       "    <tr>\n",
       "      <th>2020-09-07 15:11:22</th>\n",
       "      <td>7.9.2020 15:11:22</td>\n",
       "      <td>1.062</td>\n",
       "      <td>36.111111</td>\n",
       "      <td>PURPLE</td>\n",
       "      <td>Vosss</td>\n",
       "      <td>NaN</td>\n",
       "    </tr>\n",
       "    <tr>\n",
       "      <th>2020-09-07 15:36:12</th>\n",
       "      <td>7.9.2020 15:36:12</td>\n",
       "      <td>1.059</td>\n",
       "      <td>36.111111</td>\n",
       "      <td>PURPLE</td>\n",
       "      <td>Vosss</td>\n",
       "      <td>NaN</td>\n",
       "    </tr>\n",
       "    <tr>\n",
       "      <th>...</th>\n",
       "      <td>...</td>\n",
       "      <td>...</td>\n",
       "      <td>...</td>\n",
       "      <td>...</td>\n",
       "      <td>...</td>\n",
       "      <td>...</td>\n",
       "    </tr>\n",
       "    <tr>\n",
       "      <th>2020-09-25 00:27:24</th>\n",
       "      <td>25.9.2020 00:27:24</td>\n",
       "      <td>1.033</td>\n",
       "      <td>35.000000</td>\n",
       "      <td>PURPLE</td>\n",
       "      <td>Hornindal</td>\n",
       "      <td>NaN</td>\n",
       "    </tr>\n",
       "    <tr>\n",
       "      <th>2020-09-25 07:43:04</th>\n",
       "      <td>25.9.2020 07:43:04</td>\n",
       "      <td>1.032</td>\n",
       "      <td>34.444444</td>\n",
       "      <td>PURPLE</td>\n",
       "      <td>Hornindal</td>\n",
       "      <td>NaN</td>\n",
       "    </tr>\n",
       "    <tr>\n",
       "      <th>2020-09-25 16:56:32</th>\n",
       "      <td>25.9.2020 16:56:32</td>\n",
       "      <td>1.030</td>\n",
       "      <td>34.444444</td>\n",
       "      <td>PURPLE</td>\n",
       "      <td>Hornindal</td>\n",
       "      <td>NaN</td>\n",
       "    </tr>\n",
       "    <tr>\n",
       "      <th>2020-09-25 17:54:32</th>\n",
       "      <td>25.9.2020 17:54:32</td>\n",
       "      <td>1.030</td>\n",
       "      <td>34.444444</td>\n",
       "      <td>PURPLE</td>\n",
       "      <td>Hornindal</td>\n",
       "      <td>NaN</td>\n",
       "    </tr>\n",
       "    <tr>\n",
       "      <th>2020-09-25 18:53:26</th>\n",
       "      <td>25.9.2020 18:53:26</td>\n",
       "      <td>1.007</td>\n",
       "      <td>34.444444</td>\n",
       "      <td>PURPLE</td>\n",
       "      <td>Hornindal</td>\n",
       "      <td>NaN</td>\n",
       "    </tr>\n",
       "  </tbody>\n",
       "</table>\n",
       "<p>96 rows × 6 columns</p>\n",
       "</div>"
      ],
      "text/plain": [
       "                              Timestamp     SG       Temp   Color       Beer  \\\n",
       "Timepoint                                                                      \n",
       "2020-09-07 12:07:48   7.9.2020 12:07:48  1.069  35.555556  PURPLE      Vosss   \n",
       "2020-09-07 12:56:03   7.9.2020 12:56:03  1.065  35.555556  PURPLE      Vosss   \n",
       "2020-09-07 13:38:24   7.9.2020 13:38:24  1.068  35.555556  PURPLE      Vosss   \n",
       "2020-09-07 15:11:22   7.9.2020 15:11:22  1.062  36.111111  PURPLE      Vosss   \n",
       "2020-09-07 15:36:12   7.9.2020 15:36:12  1.059  36.111111  PURPLE      Vosss   \n",
       "...                                 ...    ...        ...     ...        ...   \n",
       "2020-09-25 00:27:24  25.9.2020 00:27:24  1.033  35.000000  PURPLE  Hornindal   \n",
       "2020-09-25 07:43:04  25.9.2020 07:43:04  1.032  34.444444  PURPLE  Hornindal   \n",
       "2020-09-25 16:56:32  25.9.2020 16:56:32  1.030  34.444444  PURPLE  Hornindal   \n",
       "2020-09-25 17:54:32  25.9.2020 17:54:32  1.030  34.444444  PURPLE  Hornindal   \n",
       "2020-09-25 18:53:26  25.9.2020 18:53:26  1.007  34.444444  PURPLE  Hornindal   \n",
       "\n",
       "                     Comment  \n",
       "Timepoint                     \n",
       "2020-09-07 12:07:48      NaN  \n",
       "2020-09-07 12:56:03      NaN  \n",
       "2020-09-07 13:38:24      NaN  \n",
       "2020-09-07 15:11:22      NaN  \n",
       "2020-09-07 15:36:12      NaN  \n",
       "...                      ...  \n",
       "2020-09-25 00:27:24      NaN  \n",
       "2020-09-25 07:43:04      NaN  \n",
       "2020-09-25 16:56:32      NaN  \n",
       "2020-09-25 17:54:32      NaN  \n",
       "2020-09-25 18:53:26      NaN  \n",
       "\n",
       "[96 rows x 6 columns]"
      ]
     },
     "execution_count": 17,
     "metadata": {},
     "output_type": "execute_result"
    }
   ],
   "source": [
    "df"
   ]
  },
  {
   "cell_type": "markdown",
   "metadata": {},
   "source": [
    "Somehow lots of old data ended up in the file. Those should be deleted. There are also some entries with too large temperature and too low SG to be reomved."
   ]
  },
  {
   "cell_type": "code",
   "execution_count": 25,
   "metadata": {},
   "outputs": [],
   "source": [
    "df=df.loc[df.index>datetime(2020,9,20)]\n",
    "df = df.loc[df[\"Temp\"]<40]\n",
    "df = df.loc[df[\"SG\"]>1.029]\n",
    "df.index= (df.index -df.index[0]).total_seconds()/3600"
   ]
  },
  {
   "cell_type": "code",
   "execution_count": 26,
   "metadata": {},
   "outputs": [
    {
     "data": {
      "application/vnd.jupyter.widget-view+json": {
       "model_id": "0ad5e3909ac14482bab0269a24ab1011",
       "version_major": 2,
       "version_minor": 0
      },
      "text/plain": [
       "Canvas(toolbar=Toolbar(toolitems=[('Home', 'Reset original view', 'home', 'home'), ('Back', 'Back to previous …"
      ]
     },
     "metadata": {},
     "output_type": "display_data"
    }
   ],
   "source": [
    "%matplotlib widget\n",
    "ax = df.plot(y=\"Temp\")\n",
    "df.plot(y=\"SG\", secondary_y=True, ax=ax)\n",
    "ax.set_xlabel(\"hours\")\n",
    "ax.grid(\"on\")\n",
    "plt.show()"
   ]
  },
  {
   "cell_type": "code",
   "execution_count": null,
   "metadata": {},
   "outputs": [],
   "source": []
  }
 ],
 "metadata": {
  "kernelspec": {
   "display_name": "Python 3",
   "language": "python",
   "name": "python3"
  },
  "language_info": {
   "codemirror_mode": {
    "name": "ipython",
    "version": 3
   },
   "file_extension": ".py",
   "mimetype": "text/x-python",
   "name": "python",
   "nbconvert_exporter": "python",
   "pygments_lexer": "ipython3",
   "version": "3.8.5"
  }
 },
 "nbformat": 4,
 "nbformat_minor": 4
}
